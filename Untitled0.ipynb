{
  "nbformat": 4,
  "nbformat_minor": 0,
  "metadata": {
    "colab": {
      "provenance": []
    },
    "kernelspec": {
      "name": "python3",
      "display_name": "Python 3"
    },
    "language_info": {
      "name": "python"
    }
  },
  "cells": [
    {
      "cell_type": "code",
      "execution_count": 12,
      "metadata": {
        "colab": {
          "base_uri": "https://localhost:8080/"
        },
        "id": "VyOeJxKitJcM",
        "outputId": "6e95b787-a44f-48c0-ca43-e4d815f31f8c"
      },
      "outputs": [
        {
          "output_type": "stream",
          "name": "stdout",
          "text": [
            "              PC1       PC2\n",
            "Cluster                    \n",
            "0        0.384550  1.045070\n",
            "1       -1.078324 -0.193503\n",
            "2        0.709702 -0.808281\n",
            "\n",
            "Conclusiones:\n",
            "- Se identificaron tres segmentos principales de usuarios.\n",
            "- Cada segmento tiene preferencias y comportamientos distintos.\n",
            "\n",
            "Recomendaciones:\n",
            "- Personalizar recomendaciones de contenido para cada segmento.\n",
            "- Diseñar campañas de marketing dirigidas a cada grupo.\n",
            "\n"
          ]
        }
      ],
      "source": [
        "# Interpretación de los clústeres\n",
        "cluster_analysis = pd.DataFrame(principal_components, columns=['PC1', 'PC2'])\n",
        "cluster_analysis['Cluster'] = clusters\n",
        "print(cluster_analysis.groupby('Cluster').mean())\n",
        "\n",
        "# Conclusiones y recomendaciones\n",
        "print(\"\"\"\n",
        "Conclusiones:\n",
        "- Se identificaron tres segmentos principales de usuarios.\n",
        "- Cada segmento tiene preferencias y comportamientos distintos.\n",
        "\n",
        "Recomendaciones:\n",
        "- Personalizar recomendaciones de contenido para cada segmento.\n",
        "- Diseñar campañas de marketing dirigidas a cada grupo.\n",
        "\"\"\")\n",
        "\n",
        "\n"
      ]
    }
  ]
}